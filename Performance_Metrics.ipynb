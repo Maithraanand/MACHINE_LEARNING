{
  "nbformat": 4,
  "nbformat_minor": 0,
  "metadata": {
    "colab": {
      "provenance": [],
      "authorship_tag": "ABX9TyOcF7f8vhh69MxZBulprC7f",
      "include_colab_link": true
    },
    "kernelspec": {
      "name": "python3",
      "display_name": "Python 3"
    },
    "language_info": {
      "name": "python"
    }
  },
  "cells": [
    {
      "cell_type": "markdown",
      "metadata": {
        "id": "view-in-github",
        "colab_type": "text"
      },
      "source": [
        "<a href=\"https://colab.research.google.com/github/GodfreyAchu/Machine-Learning/blob/main/Performance_Metrics.ipynb\" target=\"_parent\"><img src=\"https://colab.research.google.com/assets/colab-badge.svg\" alt=\"Open In Colab\"/></a>"
      ]
    },
    {
      "cell_type": "markdown",
      "source": [
        "##Performance Metrics\n",
        "The data set used here is same as the data set that is used for Naive Bayes"
      ],
      "metadata": {
        "id": "s6_9ujfNLFn8"
      }
    },
    {
      "cell_type": "code",
      "source": [
        "import seaborn as sns\n",
        "from sklearn.metrics import confusion_matrix\n",
        "\n",
        "# passing actual and predicted values\n",
        "cm = confusion_matrix(y_test, y_pred)\n",
        "\n",
        "# true write data values in each cell of the matrix\n",
        "sns.heatmap(cm, annot=True)\n",
        "plt.savefig('confusion.png')"
      ],
      "metadata": {
        "colab": {
          "base_uri": "https://localhost:8080/",
          "height": 430
        },
        "id": "GxRrf0qKRe-e",
        "outputId": "1dd25284-2d36-4010-8f1d-5a3a2d7b13f2"
      },
      "execution_count": null,
      "outputs": [
        {
          "output_type": "display_data",
          "data": {
            "text/plain": [
              "<Figure size 640x480 with 2 Axes>"
            ],
            "image/png": "[encoded data removed]"
          },
          "metadata": {}
        }
      ]
    },
    {
      "cell_type": "code",
      "source": [
        "from sklearn.metrics import classification_report\n",
        "\n",
        "# printing the report\n",
        "print(classification_report(y_test, y_pred))"
      ],
      "metadata": {
        "colab": {
          "base_uri": "https://localhost:8080/"
        },
        "id": "r0hro1lMR9Un",
        "outputId": "13945f9c-501f-4b9c-eec0-7075d4436e7c"
      },
      "execution_count": null,
      "outputs": [
        {
          "output_type": "stream",
          "name": "stdout",
          "text": [
            "              precision    recall  f1-score   support\n",
            "\n",
            "           0       0.82      0.91      0.86        68\n",
            "           1       0.75      0.56      0.64        32\n",
            "\n",
            "    accuracy                           0.80       100\n",
            "   macro avg       0.78      0.74      0.75       100\n",
            "weighted avg       0.79      0.80      0.79       100\n",
            "\n"
          ]
        }
      ]
    },
    {
      "cell_type": "code",
      "source": [
        "from sklearn.metrics import r2_score\n",
        "from sklearn.metrics import mean_absolute_error\n",
        "from sklearn.metrics import mean_squared_error\n",
        "X_actual = [5, -1, 2, 10]\n",
        "Y_predic = [3.5, -0.9, 2, 9.9]\n",
        "print ('R Squared =',r2_score(X_actual, Y_predic))\n",
        "print ('MAE =',mean_absolute_error(X_actual, Y_predic))\n",
        "print ('MSE =',mean_squared_error(X_actual, Y_predic))"
      ],
      "metadata": {
        "colab": {
          "base_uri": "https://localhost:8080/"
        },
        "id": "c1qqqJSrL2Oz",
        "outputId": "bfb17d80-590e-41c8-d7e8-90c73d3df6ad"
      },
      "execution_count": 1,
      "outputs": [
        {
          "output_type": "stream",
          "name": "stdout",
          "text": [
            "R Squared = 0.9656060606060606\n",
            "MAE = 0.42499999999999993\n",
            "MSE = 0.5674999999999999\n"
          ]
        }
      ]
    }
  ]
}